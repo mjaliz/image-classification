{
 "cells": [
  {
   "cell_type": "code",
   "execution_count": 12,
   "metadata": {},
   "outputs": [
    {
     "ename": "ModuleNotFoundError",
     "evalue": "No module named 'pandas'",
     "output_type": "error",
     "traceback": [
      "\u001b[0;31m---------------------------------------------------------------------------\u001b[0m",
      "\u001b[0;31mModuleNotFoundError\u001b[0m                       Traceback (most recent call last)",
      "Cell \u001b[0;32mIn [12], line 4\u001b[0m\n\u001b[1;32m      2\u001b[0m \u001b[38;5;28;01mimport\u001b[39;00m \u001b[38;5;21;01mtensorflow\u001b[39;00m \u001b[38;5;28;01mas\u001b[39;00m \u001b[38;5;21;01mtf\u001b[39;00m\n\u001b[1;32m      3\u001b[0m \u001b[38;5;28;01mfrom\u001b[39;00m \u001b[38;5;21;01mtensorflow\u001b[39;00m\u001b[38;5;21;01m.\u001b[39;00m\u001b[38;5;21;01mkeras\u001b[39;00m\u001b[38;5;21;01m.\u001b[39;00m\u001b[38;5;21;01mpreprocessing\u001b[39;00m\u001b[38;5;21;01m.\u001b[39;00m\u001b[38;5;21;01mimage\u001b[39;00m \u001b[38;5;28;01mimport\u001b[39;00m ImageDataGenerator\n\u001b[0;32m----> 4\u001b[0m \u001b[38;5;28;01mimport\u001b[39;00m \u001b[38;5;21;01mpandas\u001b[39;00m \u001b[38;5;28;01mas\u001b[39;00m \u001b[38;5;21;01mpd\u001b[39;00m\n",
      "\u001b[0;31mModuleNotFoundError\u001b[0m: No module named 'pandas'"
     ]
    }
   ],
   "source": [
    "import os\n",
    "import tensorflow as tf\n",
    "from tensorflow.keras.preprocessing.image import ImageDataGenerator\n",
    "import pandas as pd"
   ]
  },
  {
   "cell_type": "code",
   "execution_count": 2,
   "metadata": {},
   "outputs": [
    {
     "data": {
      "text/plain": [
       "'/tf/image-classification/src/trainer'"
      ]
     },
     "execution_count": 2,
     "metadata": {},
     "output_type": "execute_result"
    }
   ],
   "source": [
    "pwd"
   ]
  },
  {
   "cell_type": "code",
   "execution_count": 3,
   "metadata": {},
   "outputs": [],
   "source": [
    "base_dir = '../../../dataset/dist/'\n",
    "\n",
    "train_dir = os.path.join(base_dir, 'train')\n",
    "valid_dir = os.path.join(base_dir, 'valid')\n",
    "test_dir = os.path.join(base_dir, 'test')\n",
    "\n",
    "train_accepted_dir = os.path.join(train_dir, 'accepted')\n",
    "\n",
    "train_rejected_dir = os.path.join(train_dir, 'rejected')\n",
    "\n",
    "valid_accepted_dir = os.path.join(valid_dir, 'accepted')\n",
    "\n",
    "valid_rejected_dir = os.path.join(valid_dir, 'rejected')"
   ]
  },
  {
   "cell_type": "code",
   "execution_count": 4,
   "metadata": {},
   "outputs": [],
   "source": [
    "# Add our data-augmentation parameters to ImageDataGenerator\n",
    "train_datagen = ImageDataGenerator(rescale = 1./255.,rotation_range = 40, width_shift_range = 0.2, height_shift_range = 0.2, shear_range = 0.2, zoom_range = 0.2, horizontal_flip = True)\n",
    "\n",
    "# Note that the validation data should not be augmented!\n",
    "test_datagen = ImageDataGenerator( rescale = 1.0/255. )"
   ]
  },
  {
   "cell_type": "code",
   "execution_count": 5,
   "metadata": {},
   "outputs": [
    {
     "name": "stdout",
     "output_type": "stream",
     "text": [
      "Found 4361 images belonging to 2 classes.\n",
      "Found 546 images belonging to 2 classes.\n"
     ]
    }
   ],
   "source": [
    "# Flow training images in batches of 20 using train_datagen generator\n",
    "train_generator = train_datagen.flow_from_directory(train_dir, batch_size = 20, class_mode = 'binary', target_size = (224, 224))\n",
    "\n",
    "# Flow validation images in batches of 20 using test_datagen generator\n",
    "validation_generator = test_datagen.flow_from_directory( valid_dir,  batch_size = 20, class_mode = 'binary', target_size = (224, 224))"
   ]
  },
  {
   "cell_type": "code",
   "execution_count": 6,
   "metadata": {},
   "outputs": [],
   "source": [
    "from tensorflow.keras.applications import ResNet50\n",
    "\n",
    "base_model = ResNet50(input_shape=(224, 224,3), include_top=False, weights=\"imagenet\")"
   ]
  },
  {
   "cell_type": "code",
   "execution_count": 7,
   "metadata": {},
   "outputs": [],
   "source": [
    "for layer in base_model.layers:\n",
    "    layer.trainable = False"
   ]
  },
  {
   "cell_type": "code",
   "execution_count": 8,
   "metadata": {},
   "outputs": [],
   "source": [
    "from tensorflow.keras.applications import ResNet50\n",
    "from tensorflow.keras.models import Sequential\n",
    "from tensorflow.keras.layers import Dense, Flatten, GlobalAveragePooling2D\n",
    "\n",
    "base_model = Sequential()\n",
    "base_model.add(ResNet50(include_top=False, weights='imagenet', pooling='max'))\n",
    "base_model.add(Dense(1, activation='sigmoid'))"
   ]
  },
  {
   "cell_type": "code",
   "execution_count": 9,
   "metadata": {
    "scrolled": true
   },
   "outputs": [],
   "source": [
    "base_model.compile(optimizer = tf.keras.optimizers.SGD(learning_rate=0.0001), loss = 'binary_crossentropy', metrics = ['accuracy'])"
   ]
  },
  {
   "cell_type": "code",
   "execution_count": 10,
   "metadata": {},
   "outputs": [
    {
     "name": "stdout",
     "output_type": "stream",
     "text": [
      "Epoch 1/100\n",
      "100/100 [==============================] - 26s 168ms/step - loss: 2.0070 - accuracy: 0.5396 - val_loss: 1.0153 - val_accuracy: 0.5000\n",
      "Epoch 2/100\n",
      "100/100 [==============================] - 16s 158ms/step - loss: 1.5750 - accuracy: 0.6070 - val_loss: 2.6712 - val_accuracy: 0.5000\n",
      "Epoch 3/100\n",
      "100/100 [==============================] - 16s 157ms/step - loss: 1.4086 - accuracy: 0.6436 - val_loss: 3.4311 - val_accuracy: 0.5000\n",
      "Epoch 4/100\n",
      "100/100 [==============================] - 16s 155ms/step - loss: 1.3274 - accuracy: 0.6655 - val_loss: 3.0241 - val_accuracy: 0.5018\n",
      "Epoch 5/100\n",
      "100/100 [==============================] - 16s 155ms/step - loss: 1.2236 - accuracy: 0.6759 - val_loss: 3.4134 - val_accuracy: 0.5201\n",
      "Epoch 6/100\n",
      "100/100 [==============================] - 16s 160ms/step - loss: 1.1466 - accuracy: 0.6845 - val_loss: 2.3886 - val_accuracy: 0.5495\n",
      "Epoch 7/100\n",
      "100/100 [==============================] - 15s 154ms/step - loss: 1.1205 - accuracy: 0.7017 - val_loss: 1.3550 - val_accuracy: 0.6538\n",
      "Epoch 8/100\n",
      "100/100 [==============================] - 16s 155ms/step - loss: 1.0494 - accuracy: 0.7102 - val_loss: 1.0007 - val_accuracy: 0.7051\n",
      "Epoch 9/100\n",
      "100/100 [==============================] - 15s 154ms/step - loss: 1.0245 - accuracy: 0.7085 - val_loss: 0.9243 - val_accuracy: 0.7399\n",
      "Epoch 10/100\n",
      "100/100 [==============================] - 16s 155ms/step - loss: 0.9455 - accuracy: 0.7180 - val_loss: 1.1485 - val_accuracy: 0.7125\n",
      "Epoch 11/100\n",
      "100/100 [==============================] - 16s 155ms/step - loss: 0.9976 - accuracy: 0.7224 - val_loss: 0.8911 - val_accuracy: 0.7674\n",
      "Epoch 12/100\n",
      "100/100 [==============================] - 16s 156ms/step - loss: 0.9279 - accuracy: 0.7195 - val_loss: 0.8321 - val_accuracy: 0.7674\n",
      "Epoch 13/100\n",
      "100/100 [==============================] - 16s 158ms/step - loss: 0.8862 - accuracy: 0.7365 - val_loss: 0.7855 - val_accuracy: 0.7802\n",
      "Epoch 14/100\n",
      "100/100 [==============================] - 16s 155ms/step - loss: 0.8583 - accuracy: 0.7511 - val_loss: 0.7855 - val_accuracy: 0.7766\n",
      "Epoch 15/100\n",
      "100/100 [==============================] - 15s 153ms/step - loss: 0.8639 - accuracy: 0.7465 - val_loss: 0.7699 - val_accuracy: 0.7802\n",
      "Epoch 16/100\n",
      "100/100 [==============================] - 15s 153ms/step - loss: 0.8426 - accuracy: 0.7510 - val_loss: 0.7152 - val_accuracy: 0.7930\n",
      "Epoch 17/100\n",
      "100/100 [==============================] - 15s 153ms/step - loss: 0.8498 - accuracy: 0.7491 - val_loss: 0.6833 - val_accuracy: 0.7912\n",
      "Epoch 18/100\n",
      "100/100 [==============================] - 15s 153ms/step - loss: 0.7963 - accuracy: 0.7540 - val_loss: 0.6852 - val_accuracy: 0.7985\n",
      "Epoch 19/100\n",
      "100/100 [==============================] - 15s 153ms/step - loss: 0.7891 - accuracy: 0.7540 - val_loss: 0.7355 - val_accuracy: 0.7912\n",
      "Epoch 20/100\n",
      "100/100 [==============================] - 15s 154ms/step - loss: 0.7900 - accuracy: 0.7592 - val_loss: 0.7864 - val_accuracy: 0.7729\n",
      "Epoch 21/100\n",
      "100/100 [==============================] - 16s 157ms/step - loss: 0.8017 - accuracy: 0.7545 - val_loss: 0.7864 - val_accuracy: 0.7821\n",
      "Epoch 22/100\n",
      "100/100 [==============================] - 16s 154ms/step - loss: 0.7622 - accuracy: 0.7643 - val_loss: 0.7043 - val_accuracy: 0.7967\n",
      "Epoch 23/100\n",
      "100/100 [==============================] - 16s 154ms/step - loss: 0.7255 - accuracy: 0.7645 - val_loss: 0.6595 - val_accuracy: 0.8059\n",
      "Epoch 24/100\n",
      "100/100 [==============================] - 15s 153ms/step - loss: 0.7971 - accuracy: 0.7572 - val_loss: 0.8500 - val_accuracy: 0.7656\n",
      "Epoch 25/100\n",
      "100/100 [==============================] - 15s 154ms/step - loss: 0.6989 - accuracy: 0.7830 - val_loss: 0.6793 - val_accuracy: 0.7985\n",
      "Epoch 26/100\n",
      "100/100 [==============================] - 15s 154ms/step - loss: 0.7022 - accuracy: 0.7730 - val_loss: 0.6471 - val_accuracy: 0.8004\n",
      "Epoch 27/100\n",
      "100/100 [==============================] - 15s 154ms/step - loss: 0.6706 - accuracy: 0.7820 - val_loss: 0.6566 - val_accuracy: 0.8004\n",
      "Epoch 28/100\n",
      "100/100 [==============================] - 16s 159ms/step - loss: 0.7496 - accuracy: 0.7537 - val_loss: 0.6544 - val_accuracy: 0.7930\n",
      "Epoch 29/100\n",
      "100/100 [==============================] - 16s 154ms/step - loss: 0.6727 - accuracy: 0.7870 - val_loss: 0.6286 - val_accuracy: 0.7985\n",
      "Epoch 30/100\n",
      "100/100 [==============================] - 16s 154ms/step - loss: 0.6345 - accuracy: 0.7759 - val_loss: 0.6390 - val_accuracy: 0.8114\n",
      "Epoch 31/100\n",
      "100/100 [==============================] - 16s 159ms/step - loss: 0.6823 - accuracy: 0.7956 - val_loss: 0.6251 - val_accuracy: 0.8040\n",
      "Epoch 32/100\n",
      "100/100 [==============================] - 16s 154ms/step - loss: 0.7021 - accuracy: 0.7759 - val_loss: 0.7390 - val_accuracy: 0.7949\n",
      "Epoch 33/100\n",
      "100/100 [==============================] - 16s 156ms/step - loss: 0.6162 - accuracy: 0.7975 - val_loss: 0.6309 - val_accuracy: 0.7985\n",
      "Epoch 34/100\n",
      "100/100 [==============================] - 16s 157ms/step - loss: 0.6341 - accuracy: 0.7925 - val_loss: 0.6167 - val_accuracy: 0.8059\n",
      "Epoch 35/100\n",
      "100/100 [==============================] - 16s 154ms/step - loss: 0.6313 - accuracy: 0.7940 - val_loss: 0.5745 - val_accuracy: 0.8040\n",
      "Epoch 36/100\n",
      "100/100 [==============================] - 16s 160ms/step - loss: 0.6131 - accuracy: 0.7920 - val_loss: 0.5748 - val_accuracy: 0.8150\n",
      "Epoch 37/100\n",
      "100/100 [==============================] - 16s 154ms/step - loss: 0.6332 - accuracy: 0.7850 - val_loss: 0.5774 - val_accuracy: 0.7985\n",
      "Epoch 38/100\n",
      "100/100 [==============================] - 15s 153ms/step - loss: 0.6208 - accuracy: 0.8041 - val_loss: 0.6463 - val_accuracy: 0.7912\n",
      "Epoch 39/100\n",
      "100/100 [==============================] - 16s 159ms/step - loss: 0.5715 - accuracy: 0.8107 - val_loss: 0.5817 - val_accuracy: 0.8114\n",
      "Epoch 40/100\n",
      "100/100 [==============================] - 16s 157ms/step - loss: 0.5890 - accuracy: 0.8050 - val_loss: 0.6438 - val_accuracy: 0.7930\n",
      "Epoch 41/100\n",
      "100/100 [==============================] - 16s 154ms/step - loss: 0.5838 - accuracy: 0.8085 - val_loss: 0.5588 - val_accuracy: 0.8059\n",
      "Epoch 42/100\n",
      "100/100 [==============================] - 16s 156ms/step - loss: 0.5814 - accuracy: 0.8055 - val_loss: 0.5608 - val_accuracy: 0.8150\n",
      "Epoch 43/100\n",
      "100/100 [==============================] - 17s 169ms/step - loss: 0.5235 - accuracy: 0.8188 - val_loss: 0.5826 - val_accuracy: 0.8059\n",
      "Epoch 44/100\n",
      "100/100 [==============================] - 15s 154ms/step - loss: 0.5666 - accuracy: 0.8046 - val_loss: 0.5482 - val_accuracy: 0.8132\n",
      "Epoch 45/100\n",
      "100/100 [==============================] - 16s 155ms/step - loss: 0.5616 - accuracy: 0.8025 - val_loss: 0.5376 - val_accuracy: 0.8205\n",
      "Epoch 46/100\n",
      "100/100 [==============================] - 16s 155ms/step - loss: 0.5524 - accuracy: 0.8168 - val_loss: 0.5263 - val_accuracy: 0.8168\n",
      "Epoch 47/100\n",
      "100/100 [==============================] - 16s 156ms/step - loss: 0.5680 - accuracy: 0.8026 - val_loss: 0.5431 - val_accuracy: 0.8114\n",
      "Epoch 48/100\n",
      "100/100 [==============================] - 16s 155ms/step - loss: 0.5202 - accuracy: 0.8285 - val_loss: 0.5504 - val_accuracy: 0.8150\n",
      "Epoch 49/100\n",
      "100/100 [==============================] - 16s 155ms/step - loss: 0.5492 - accuracy: 0.8180 - val_loss: 0.6244 - val_accuracy: 0.8004\n",
      "Epoch 50/100\n",
      "100/100 [==============================] - 16s 155ms/step - loss: 0.5041 - accuracy: 0.8178 - val_loss: 0.5366 - val_accuracy: 0.8223\n",
      "Epoch 51/100\n",
      "100/100 [==============================] - 16s 157ms/step - loss: 0.4957 - accuracy: 0.8314 - val_loss: 0.5462 - val_accuracy: 0.8114\n",
      "Epoch 52/100\n",
      "100/100 [==============================] - 15s 154ms/step - loss: 0.5423 - accuracy: 0.8140 - val_loss: 0.6138 - val_accuracy: 0.7985\n",
      "Epoch 53/100\n",
      "100/100 [==============================] - 16s 154ms/step - loss: 0.6145 - accuracy: 0.7930 - val_loss: 0.5329 - val_accuracy: 0.8242\n",
      "Epoch 54/100\n",
      "100/100 [==============================] - 15s 154ms/step - loss: 0.5133 - accuracy: 0.8160 - val_loss: 0.5933 - val_accuracy: 0.8095\n",
      "Epoch 55/100\n",
      "100/100 [==============================] - 16s 155ms/step - loss: 0.5122 - accuracy: 0.8163 - val_loss: 0.5170 - val_accuracy: 0.8150\n",
      "Epoch 56/100\n",
      "100/100 [==============================] - 16s 155ms/step - loss: 0.5061 - accuracy: 0.8310 - val_loss: 0.5153 - val_accuracy: 0.8095\n"
     ]
    },
    {
     "name": "stdout",
     "output_type": "stream",
     "text": [
      "Epoch 57/100\n",
      "100/100 [==============================] - 16s 155ms/step - loss: 0.4817 - accuracy: 0.8225 - val_loss: 0.6002 - val_accuracy: 0.8040\n",
      "Epoch 58/100\n",
      "100/100 [==============================] - 16s 155ms/step - loss: 0.5044 - accuracy: 0.8160 - val_loss: 0.5143 - val_accuracy: 0.8150\n",
      "Epoch 59/100\n",
      "100/100 [==============================] - 16s 155ms/step - loss: 0.5032 - accuracy: 0.8245 - val_loss: 0.5127 - val_accuracy: 0.8187\n",
      "Epoch 60/100\n",
      "100/100 [==============================] - 15s 153ms/step - loss: 0.4530 - accuracy: 0.8299 - val_loss: 0.5264 - val_accuracy: 0.8150\n",
      "Epoch 61/100\n",
      "100/100 [==============================] - 16s 155ms/step - loss: 0.5373 - accuracy: 0.8105 - val_loss: 0.5093 - val_accuracy: 0.8278\n",
      "Epoch 62/100\n",
      "100/100 [==============================] - 16s 156ms/step - loss: 0.4869 - accuracy: 0.8295 - val_loss: 0.5794 - val_accuracy: 0.8077\n",
      "Epoch 63/100\n",
      "100/100 [==============================] - 15s 155ms/step - loss: 0.4966 - accuracy: 0.8274 - val_loss: 0.5429 - val_accuracy: 0.8059\n",
      "Epoch 64/100\n",
      "100/100 [==============================] - 16s 155ms/step - loss: 0.4764 - accuracy: 0.8334 - val_loss: 0.5429 - val_accuracy: 0.8004\n",
      "Epoch 65/100\n",
      "100/100 [==============================] - 16s 154ms/step - loss: 0.4869 - accuracy: 0.8360 - val_loss: 0.4972 - val_accuracy: 0.8205\n",
      "Epoch 66/100\n",
      "100/100 [==============================] - 15s 154ms/step - loss: 0.4703 - accuracy: 0.8450 - val_loss: 0.5194 - val_accuracy: 0.8168\n",
      "Epoch 67/100\n",
      "100/100 [==============================] - 16s 154ms/step - loss: 0.4633 - accuracy: 0.8345 - val_loss: 0.5005 - val_accuracy: 0.8260\n",
      "Epoch 68/100\n",
      "100/100 [==============================] - 15s 154ms/step - loss: 0.4442 - accuracy: 0.8380 - val_loss: 0.5598 - val_accuracy: 0.8022\n",
      "Epoch 69/100\n",
      "100/100 [==============================] - 16s 154ms/step - loss: 0.5075 - accuracy: 0.8310 - val_loss: 0.5051 - val_accuracy: 0.8150\n",
      "Epoch 70/100\n",
      "100/100 [==============================] - 16s 154ms/step - loss: 0.4500 - accuracy: 0.8415 - val_loss: 0.4948 - val_accuracy: 0.8187\n",
      "Epoch 71/100\n",
      "100/100 [==============================] - 16s 154ms/step - loss: 0.4365 - accuracy: 0.8355 - val_loss: 0.4838 - val_accuracy: 0.8333\n",
      "Epoch 72/100\n",
      "100/100 [==============================] - 15s 154ms/step - loss: 0.4153 - accuracy: 0.8455 - val_loss: 0.4782 - val_accuracy: 0.8333\n",
      "Epoch 73/100\n",
      "100/100 [==============================] - 16s 154ms/step - loss: 0.4412 - accuracy: 0.8445 - val_loss: 0.4886 - val_accuracy: 0.8278\n",
      "Epoch 74/100\n",
      "100/100 [==============================] - 16s 155ms/step - loss: 0.4634 - accuracy: 0.8485 - val_loss: 0.4855 - val_accuracy: 0.8297\n",
      "Epoch 75/100\n",
      "100/100 [==============================] - 16s 154ms/step - loss: 0.4274 - accuracy: 0.8435 - val_loss: 0.4844 - val_accuracy: 0.8205\n",
      "Epoch 76/100\n",
      "100/100 [==============================] - 15s 154ms/step - loss: 0.4698 - accuracy: 0.8334 - val_loss: 0.4750 - val_accuracy: 0.8150\n",
      "Epoch 77/100\n",
      "100/100 [==============================] - 16s 155ms/step - loss: 0.3884 - accuracy: 0.8565 - val_loss: 0.4789 - val_accuracy: 0.8315\n",
      "Epoch 78/100\n",
      "100/100 [==============================] - 15s 154ms/step - loss: 0.3876 - accuracy: 0.8546 - val_loss: 0.4934 - val_accuracy: 0.8223\n",
      "Epoch 79/100\n",
      "100/100 [==============================] - 15s 154ms/step - loss: 0.3909 - accuracy: 0.8476 - val_loss: 0.4708 - val_accuracy: 0.8407\n",
      "Epoch 80/100\n",
      "100/100 [==============================] - 15s 154ms/step - loss: 0.4082 - accuracy: 0.8592 - val_loss: 0.5590 - val_accuracy: 0.8132\n",
      "Epoch 81/100\n",
      "100/100 [==============================] - 15s 153ms/step - loss: 0.3984 - accuracy: 0.8521 - val_loss: 0.7459 - val_accuracy: 0.7857\n",
      "Epoch 82/100\n",
      "100/100 [==============================] - 16s 155ms/step - loss: 0.4029 - accuracy: 0.8530 - val_loss: 0.5181 - val_accuracy: 0.8150\n",
      "Epoch 83/100\n",
      "100/100 [==============================] - 16s 154ms/step - loss: 0.4301 - accuracy: 0.8475 - val_loss: 0.5169 - val_accuracy: 0.8205\n",
      "Epoch 84/100\n",
      "100/100 [==============================] - 16s 154ms/step - loss: 0.3846 - accuracy: 0.8575 - val_loss: 0.4621 - val_accuracy: 0.8297\n",
      "Epoch 85/100\n",
      "100/100 [==============================] - 16s 154ms/step - loss: 0.4091 - accuracy: 0.8440 - val_loss: 0.4879 - val_accuracy: 0.8260\n",
      "Epoch 86/100\n",
      "100/100 [==============================] - 16s 154ms/step - loss: 0.3843 - accuracy: 0.8665 - val_loss: 0.4723 - val_accuracy: 0.8132\n",
      "Epoch 87/100\n",
      "100/100 [==============================] - 15s 153ms/step - loss: 0.3997 - accuracy: 0.8531 - val_loss: 0.6293 - val_accuracy: 0.7985\n",
      "Epoch 88/100\n",
      "100/100 [==============================] - 16s 155ms/step - loss: 0.3836 - accuracy: 0.8645 - val_loss: 0.4802 - val_accuracy: 0.8187\n",
      "Epoch 89/100\n",
      "100/100 [==============================] - 16s 154ms/step - loss: 0.3659 - accuracy: 0.8556 - val_loss: 0.5032 - val_accuracy: 0.8150\n",
      "Epoch 90/100\n",
      "100/100 [==============================] - 16s 154ms/step - loss: 0.3530 - accuracy: 0.8647 - val_loss: 0.4919 - val_accuracy: 0.8278\n",
      "Epoch 91/100\n",
      "100/100 [==============================] - 16s 154ms/step - loss: 0.3783 - accuracy: 0.8605 - val_loss: 0.4785 - val_accuracy: 0.8278\n",
      "Epoch 92/100\n",
      "100/100 [==============================] - 15s 154ms/step - loss: 0.4086 - accuracy: 0.8480 - val_loss: 0.5383 - val_accuracy: 0.8132\n",
      "Epoch 93/100\n",
      "100/100 [==============================] - 16s 154ms/step - loss: 0.4135 - accuracy: 0.8470 - val_loss: 0.4636 - val_accuracy: 0.8352\n",
      "Epoch 94/100\n",
      "100/100 [==============================] - 16s 154ms/step - loss: 0.3895 - accuracy: 0.8545 - val_loss: 0.4689 - val_accuracy: 0.8315\n",
      "Epoch 95/100\n",
      "100/100 [==============================] - 16s 156ms/step - loss: 0.3601 - accuracy: 0.8590 - val_loss: 0.4895 - val_accuracy: 0.8242\n",
      "Epoch 96/100\n",
      "100/100 [==============================] - 16s 156ms/step - loss: 0.3805 - accuracy: 0.8556 - val_loss: 0.5567 - val_accuracy: 0.8077\n",
      "Epoch 97/100\n",
      "100/100 [==============================] - 16s 157ms/step - loss: 0.3359 - accuracy: 0.8768 - val_loss: 0.4767 - val_accuracy: 0.8315\n",
      "Epoch 98/100\n",
      "100/100 [==============================] - 16s 159ms/step - loss: 0.3375 - accuracy: 0.8775 - val_loss: 0.4824 - val_accuracy: 0.8242\n",
      "Epoch 99/100\n",
      "100/100 [==============================] - 16s 160ms/step - loss: 0.3821 - accuracy: 0.8531 - val_loss: 0.6000 - val_accuracy: 0.8242\n",
      "Epoch 100/100\n",
      "100/100 [==============================] - 16s 155ms/step - loss: 0.3641 - accuracy: 0.8612 - val_loss: 0.5319 - val_accuracy: 0.8114\n"
     ]
    }
   ],
   "source": [
    "resnet_history = base_model.fit(train_generator, validation_data = validation_generator, steps_per_epoch = 100, epochs = 100)"
   ]
  },
  {
   "cell_type": "code",
   "execution_count": 11,
   "metadata": {},
   "outputs": [],
   "source": [
    "base_model.save('100epoch.h5')"
   ]
  },
  {
   "cell_type": "code",
   "execution_count": null,
   "metadata": {},
   "outputs": [],
   "source": []
  }
 ],
 "metadata": {
  "kernelspec": {
   "display_name": "Python 3",
   "language": "python",
   "name": "python3"
  },
  "language_info": {
   "codemirror_mode": {
    "name": "ipython",
    "version": 3
   },
   "file_extension": ".py",
   "mimetype": "text/x-python",
   "name": "python",
   "nbconvert_exporter": "python",
   "pygments_lexer": "ipython3",
   "version": "3.8.10"
  }
 },
 "nbformat": 4,
 "nbformat_minor": 2
}
