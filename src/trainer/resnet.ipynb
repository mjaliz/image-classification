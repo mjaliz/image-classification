{
 "cells": [
  {
   "cell_type": "code",
   "execution_count": 1,
   "metadata": {},
   "outputs": [],
   "source": [
    "import os\n",
    "import random\n",
    "import itertools\n",
    "import numpy as np \n",
    "import pandas as pd\n",
    "import matplotlib.pyplot as plt\n",
    "import cv2\n",
    "\n",
    "import tensorflow as tf\n",
    "from tensorflow.keras.preprocessing.image import ImageDataGenerator\n",
    "from tensorflow.keras.callbacks import ModelCheckpoint, EarlyStopping"
   ]
  },
  {
   "cell_type": "code",
   "execution_count": 2,
   "metadata": {},
   "outputs": [
    {
     "data": {
      "text/plain": [
       "'/tf/image-classification/src/trainer'"
      ]
     },
     "execution_count": 2,
     "metadata": {},
     "output_type": "execute_result"
    }
   ],
   "source": [
    "pwd"
   ]
  },
  {
   "cell_type": "code",
   "execution_count": 3,
   "metadata": {},
   "outputs": [],
   "source": [
    "base_dir = '../../../dataset/dist-unbalanced/'\n",
    "\n",
    "train_dir = os.path.join(base_dir, 'train')\n",
    "valid_dir = os.path.join(base_dir, 'valid')\n",
    "test_dir = os.path.join(base_dir, 'test')\n",
    "\n",
    "train_accepted_dir = os.path.join(train_dir, 'accepted')\n",
    "\n",
    "train_rejected_dir = os.path.join(train_dir, 'rejected')\n",
    "\n",
    "valid_accepted_dir = os.path.join(valid_dir, 'accepted')\n",
    "\n",
    "valid_rejected_dir = os.path.join(valid_dir, 'rejected')"
   ]
  },
  {
   "cell_type": "code",
   "execution_count": 4,
   "metadata": {},
   "outputs": [],
   "source": [
    "# Add our data-augmentation parameters to ImageDataGenerator\n",
    "train_datagen = ImageDataGenerator(rescale = 1./255.,rotation_range = 40, width_shift_range = 0.2, height_shift_range = 0.2, shear_range = 0.2, zoom_range = 0.2, horizontal_flip = True)\n",
    "\n",
    "# Note that the validation data should not be augmented!\n",
    "test_datagen = ImageDataGenerator( rescale = 1.0/255. )"
   ]
  },
  {
   "cell_type": "code",
   "execution_count": 5,
   "metadata": {},
   "outputs": [
    {
     "name": "stdout",
     "output_type": "stream",
     "text": [
      "Found 9778 images belonging to 2 classes.\n",
      "Found 1090 images belonging to 2 classes.\n"
     ]
    }
   ],
   "source": [
    "# Flow training images in batches of 20 using train_datagen generator\n",
    "train_generator = train_datagen.flow_from_directory(train_dir, batch_size = 64, class_mode = 'binary', target_size = (224, 224))\n",
    "\n",
    "# Flow validation images in batches of 20 using test_datagen generator\n",
    "validation_generator = test_datagen.flow_from_directory(valid_dir,  batch_size = 64, class_mode = 'binary', target_size = (224, 224))"
   ]
  },
  {
   "cell_type": "code",
   "execution_count": 6,
   "metadata": {},
   "outputs": [],
   "source": [
    "from tensorflow.keras.applications import ResNet50\n",
    "\n",
    "base_model = ResNet50(input_shape=(224, 224,3), include_top=False, weights=\"imagenet\")"
   ]
  },
  {
   "cell_type": "code",
   "execution_count": 7,
   "metadata": {},
   "outputs": [],
   "source": [
    "for layer in base_model.layers:\n",
    "    layer.trainable = False"
   ]
  },
  {
   "cell_type": "code",
   "execution_count": 8,
   "metadata": {},
   "outputs": [],
   "source": [
    "from tensorflow.keras.applications import ResNet50\n",
    "from tensorflow.keras.models import Sequential\n",
    "from tensorflow.keras.layers import Dense, Flatten, GlobalAveragePooling2D\n",
    "\n",
    "base_model = Sequential()\n",
    "base_model.add(ResNet50(include_top=False, weights='imagenet', pooling='max'))\n",
    "base_model.add(Dense(32, activation='relu'))\n",
    "base_model.add(Dense(1, activation='sigmoid'))"
   ]
  },
  {
   "cell_type": "code",
   "execution_count": 9,
   "metadata": {},
   "outputs": [],
   "source": [
    "checkpoint_filepath = './models/resnet100.h5'\n",
    "\n",
    "mc = ModelCheckpoint(\n",
    "    filepath=checkpoint_filepath,\n",
    "    save_weights_only=False,\n",
    "    monitor='val_accuracy',\n",
    "    mode='max',\n",
    "    save_best_only=True)\n",
    "\n",
    "es = EarlyStopping(\n",
    "    monitor=\"val_accuracy\",\n",
    "    min_delta=0,\n",
    "    patience=50,\n",
    "    verbose=1,\n",
    "    mode=\"auto\",\n",
    "    baseline=None,\n",
    "    restore_best_weights=True,\n",
    "    start_from_epoch=0)"
   ]
  },
  {
   "cell_type": "code",
   "execution_count": 10,
   "metadata": {
    "scrolled": true
   },
   "outputs": [],
   "source": [
    "base_model.compile(optimizer = tf.keras.optimizers.SGD(learning_rate=0.0001),\n",
    "                   loss = 'binary_crossentropy', \n",
    "                   metrics = ['accuracy'])"
   ]
  },
  {
   "cell_type": "code",
   "execution_count": 12,
   "metadata": {},
   "outputs": [
    {
     "data": {
      "text/plain": [
       "{'accepted': 0, 'rejected': 1}"
      ]
     },
     "execution_count": 12,
     "metadata": {},
     "output_type": "execute_result"
    }
   ],
   "source": [
    "train_generator.class_indices"
   ]
  },
  {
   "cell_type": "code",
   "execution_count": 13,
   "metadata": {
    "scrolled": false
   },
   "outputs": [
    {
     "name": "stdout",
     "output_type": "stream",
     "text": [
      "Epoch 1/100\n",
      "100/100 [==============================] - 45s 447ms/step - loss: 0.8073 - accuracy: 0.6118 - val_loss: 1.0836 - val_accuracy: 0.4954\n",
      "Epoch 2/100\n",
      "100/100 [==============================] - 45s 448ms/step - loss: 0.7322 - accuracy: 0.6278 - val_loss: 1.0705 - val_accuracy: 0.4963\n",
      "Epoch 3/100\n",
      "100/100 [==============================] - 45s 442ms/step - loss: 0.7112 - accuracy: 0.6353 - val_loss: 0.9420 - val_accuracy: 0.4954\n",
      "Epoch 4/100\n",
      "100/100 [==============================] - 44s 438ms/step - loss: 0.6812 - accuracy: 0.6391 - val_loss: 0.8755 - val_accuracy: 0.5202\n",
      "Epoch 5/100\n",
      "100/100 [==============================] - 44s 438ms/step - loss: 0.6727 - accuracy: 0.6420 - val_loss: 0.7539 - val_accuracy: 0.5835\n",
      "Epoch 6/100\n",
      "100/100 [==============================] - 43s 431ms/step - loss: 0.6569 - accuracy: 0.6455 - val_loss: 0.7014 - val_accuracy: 0.6110\n",
      "Epoch 7/100\n",
      "100/100 [==============================] - 43s 424ms/step - loss: 0.6397 - accuracy: 0.6544 - val_loss: 0.6714 - val_accuracy: 0.6321\n",
      "Epoch 8/100\n",
      "100/100 [==============================] - 43s 425ms/step - loss: 0.6337 - accuracy: 0.6591 - val_loss: 0.6618 - val_accuracy: 0.6339\n",
      "Epoch 9/100\n",
      "100/100 [==============================] - 43s 430ms/step - loss: 0.6155 - accuracy: 0.6673 - val_loss: 0.6604 - val_accuracy: 0.6349\n",
      "Epoch 10/100\n",
      "100/100 [==============================] - 44s 439ms/step - loss: 0.6108 - accuracy: 0.6739 - val_loss: 0.6519 - val_accuracy: 0.6376\n",
      "Epoch 11/100\n",
      "100/100 [==============================] - 43s 429ms/step - loss: 0.5943 - accuracy: 0.6873 - val_loss: 0.6483 - val_accuracy: 0.6294\n",
      "Epoch 12/100\n",
      "100/100 [==============================] - 43s 431ms/step - loss: 0.5963 - accuracy: 0.6851 - val_loss: 0.6415 - val_accuracy: 0.6422\n",
      "Epoch 13/100\n",
      "100/100 [==============================] - 44s 431ms/step - loss: 0.5888 - accuracy: 0.6916 - val_loss: 0.6349 - val_accuracy: 0.6514\n",
      "Epoch 14/100\n",
      "100/100 [==============================] - 43s 422ms/step - loss: 0.5718 - accuracy: 0.7059 - val_loss: 0.6299 - val_accuracy: 0.6514\n",
      "Epoch 15/100\n",
      "100/100 [==============================] - 43s 430ms/step - loss: 0.5751 - accuracy: 0.7031 - val_loss: 0.6239 - val_accuracy: 0.6633\n",
      "Epoch 16/100\n",
      "100/100 [==============================] - 44s 435ms/step - loss: 0.5658 - accuracy: 0.7069 - val_loss: 0.6204 - val_accuracy: 0.6606\n",
      "Epoch 17/100\n",
      "100/100 [==============================] - 44s 432ms/step - loss: 0.5471 - accuracy: 0.7203 - val_loss: 0.6163 - val_accuracy: 0.6697\n",
      "Epoch 18/100\n",
      "100/100 [==============================] - 43s 429ms/step - loss: 0.5478 - accuracy: 0.7212 - val_loss: 0.6096 - val_accuracy: 0.6706\n",
      "Epoch 19/100\n",
      "100/100 [==============================] - 43s 429ms/step - loss: 0.5491 - accuracy: 0.7231 - val_loss: 0.6039 - val_accuracy: 0.6789\n",
      "Epoch 20/100\n",
      "100/100 [==============================] - 43s 428ms/step - loss: 0.5531 - accuracy: 0.7258 - val_loss: 0.5988 - val_accuracy: 0.6908\n",
      "Epoch 21/100\n",
      "100/100 [==============================] - 43s 431ms/step - loss: 0.5486 - accuracy: 0.7222 - val_loss: 0.5963 - val_accuracy: 0.6954\n",
      "Epoch 22/100\n",
      "100/100 [==============================] - 46s 460ms/step - loss: 0.5293 - accuracy: 0.7385 - val_loss: 0.5916 - val_accuracy: 0.6963\n",
      "Epoch 23/100\n",
      "100/100 [==============================] - 44s 439ms/step - loss: 0.5204 - accuracy: 0.7402 - val_loss: 0.5886 - val_accuracy: 0.7037\n",
      "Epoch 24/100\n",
      "100/100 [==============================] - 43s 431ms/step - loss: 0.5148 - accuracy: 0.7438 - val_loss: 0.5835 - val_accuracy: 0.7018\n",
      "Epoch 25/100\n",
      "100/100 [==============================] - 44s 434ms/step - loss: 0.5114 - accuracy: 0.7415 - val_loss: 0.5780 - val_accuracy: 0.7037\n",
      "Epoch 26/100\n",
      "100/100 [==============================] - 45s 445ms/step - loss: 0.5135 - accuracy: 0.7422 - val_loss: 0.5831 - val_accuracy: 0.7119\n",
      "Epoch 27/100\n",
      "100/100 [==============================] - 44s 433ms/step - loss: 0.5104 - accuracy: 0.7530 - val_loss: 0.5742 - val_accuracy: 0.7092\n",
      "Epoch 28/100\n",
      "100/100 [==============================] - 44s 432ms/step - loss: 0.5038 - accuracy: 0.7515 - val_loss: 0.5703 - val_accuracy: 0.7147\n",
      "Epoch 29/100\n",
      "100/100 [==============================] - 44s 437ms/step - loss: 0.5043 - accuracy: 0.7468 - val_loss: 0.5663 - val_accuracy: 0.7174\n",
      "Epoch 30/100\n",
      "100/100 [==============================] - 42s 420ms/step - loss: 0.4995 - accuracy: 0.7570 - val_loss: 0.5614 - val_accuracy: 0.7156\n",
      "Epoch 31/100\n",
      "100/100 [==============================] - 43s 425ms/step - loss: 0.5033 - accuracy: 0.7559 - val_loss: 0.5590 - val_accuracy: 0.7202\n",
      "Epoch 32/100\n",
      "100/100 [==============================] - 42s 421ms/step - loss: 0.4900 - accuracy: 0.7593 - val_loss: 0.5587 - val_accuracy: 0.7202\n",
      "Epoch 33/100\n",
      "100/100 [==============================] - 43s 424ms/step - loss: 0.4851 - accuracy: 0.7676 - val_loss: 0.5537 - val_accuracy: 0.7165\n",
      "Epoch 34/100\n",
      "100/100 [==============================] - 43s 427ms/step - loss: 0.4920 - accuracy: 0.7614 - val_loss: 0.5536 - val_accuracy: 0.7211\n",
      "Epoch 35/100\n",
      "100/100 [==============================] - 43s 431ms/step - loss: 0.4815 - accuracy: 0.7638 - val_loss: 0.5493 - val_accuracy: 0.7211\n",
      "Epoch 36/100\n",
      "100/100 [==============================] - 43s 429ms/step - loss: 0.4712 - accuracy: 0.7739 - val_loss: 0.5450 - val_accuracy: 0.7275\n",
      "Epoch 37/100\n",
      "100/100 [==============================] - 42s 421ms/step - loss: 0.4685 - accuracy: 0.7706 - val_loss: 0.5424 - val_accuracy: 0.7257\n",
      "Epoch 38/100\n",
      "100/100 [==============================] - 43s 422ms/step - loss: 0.4744 - accuracy: 0.7737 - val_loss: 0.5403 - val_accuracy: 0.7257\n",
      "Epoch 39/100\n",
      "100/100 [==============================] - 43s 425ms/step - loss: 0.4811 - accuracy: 0.7629 - val_loss: 0.5366 - val_accuracy: 0.7312\n",
      "Epoch 40/100\n",
      "100/100 [==============================] - 44s 437ms/step - loss: 0.4690 - accuracy: 0.7750 - val_loss: 0.5358 - val_accuracy: 0.7349\n",
      "Epoch 41/100\n",
      "100/100 [==============================] - 43s 431ms/step - loss: 0.4707 - accuracy: 0.7698 - val_loss: 0.5330 - val_accuracy: 0.7321\n",
      "Epoch 42/100\n",
      "100/100 [==============================] - 43s 425ms/step - loss: 0.4660 - accuracy: 0.7772 - val_loss: 0.5283 - val_accuracy: 0.7330\n",
      "Epoch 43/100\n",
      "100/100 [==============================] - 43s 431ms/step - loss: 0.4521 - accuracy: 0.7837 - val_loss: 0.5285 - val_accuracy: 0.7394\n",
      "Epoch 44/100\n",
      "100/100 [==============================] - 43s 424ms/step - loss: 0.4555 - accuracy: 0.7806 - val_loss: 0.5255 - val_accuracy: 0.7358\n",
      "Epoch 45/100\n",
      "100/100 [==============================] - 43s 424ms/step - loss: 0.4487 - accuracy: 0.7839 - val_loss: 0.5254 - val_accuracy: 0.7330\n",
      "Epoch 46/100\n",
      "100/100 [==============================] - 43s 427ms/step - loss: 0.4373 - accuracy: 0.7900 - val_loss: 0.5262 - val_accuracy: 0.7339\n",
      "Epoch 47/100\n",
      "100/100 [==============================] - 43s 422ms/step - loss: 0.4634 - accuracy: 0.7792 - val_loss: 0.5219 - val_accuracy: 0.7394\n",
      "Epoch 48/100\n",
      "100/100 [==============================] - 43s 424ms/step - loss: 0.4462 - accuracy: 0.7917 - val_loss: 0.5206 - val_accuracy: 0.7413\n",
      "Epoch 49/100\n",
      "100/100 [==============================] - 43s 424ms/step - loss: 0.4419 - accuracy: 0.7892 - val_loss: 0.5175 - val_accuracy: 0.7422\n",
      "Epoch 50/100\n",
      "100/100 [==============================] - 42s 421ms/step - loss: 0.4417 - accuracy: 0.7917 - val_loss: 0.5207 - val_accuracy: 0.7422\n",
      "Epoch 51/100\n",
      "100/100 [==============================] - 42s 421ms/step - loss: 0.4366 - accuracy: 0.7909 - val_loss: 0.5161 - val_accuracy: 0.7413\n",
      "Epoch 52/100\n",
      "100/100 [==============================] - 43s 429ms/step - loss: 0.4528 - accuracy: 0.7816 - val_loss: 0.5118 - val_accuracy: 0.7459\n",
      "Epoch 53/100\n",
      "100/100 [==============================] - 43s 430ms/step - loss: 0.4414 - accuracy: 0.7872 - val_loss: 0.5109 - val_accuracy: 0.7459\n",
      "Epoch 54/100\n",
      "100/100 [==============================] - 44s 433ms/step - loss: 0.4299 - accuracy: 0.7946 - val_loss: 0.5106 - val_accuracy: 0.7431\n",
      "Epoch 55/100\n",
      "100/100 [==============================] - 43s 430ms/step - loss: 0.4403 - accuracy: 0.7920 - val_loss: 0.5092 - val_accuracy: 0.7468\n",
      "Epoch 56/100\n",
      "100/100 [==============================] - 43s 429ms/step - loss: 0.4367 - accuracy: 0.7950 - val_loss: 0.5060 - val_accuracy: 0.7505\n"
     ]
    },
    {
     "name": "stdout",
     "output_type": "stream",
     "text": [
      "Epoch 57/100\n",
      "100/100 [==============================] - 44s 436ms/step - loss: 0.4468 - accuracy: 0.7917 - val_loss: 0.5024 - val_accuracy: 0.7532\n",
      "Epoch 58/100\n",
      "100/100 [==============================] - 43s 431ms/step - loss: 0.4322 - accuracy: 0.7958 - val_loss: 0.5024 - val_accuracy: 0.7569\n",
      "Epoch 59/100\n",
      "100/100 [==============================] - 43s 429ms/step - loss: 0.4315 - accuracy: 0.7959 - val_loss: 0.4980 - val_accuracy: 0.7532\n",
      "Epoch 60/100\n",
      "100/100 [==============================] - 43s 422ms/step - loss: 0.4296 - accuracy: 0.7966 - val_loss: 0.4970 - val_accuracy: 0.7560\n",
      "Epoch 61/100\n",
      "100/100 [==============================] - 43s 426ms/step - loss: 0.4323 - accuracy: 0.7949 - val_loss: 0.4938 - val_accuracy: 0.7587\n",
      "Epoch 62/100\n",
      "100/100 [==============================] - 43s 427ms/step - loss: 0.4163 - accuracy: 0.8063 - val_loss: 0.4940 - val_accuracy: 0.7587\n",
      "Epoch 63/100\n",
      "100/100 [==============================] - 44s 439ms/step - loss: 0.4212 - accuracy: 0.8006 - val_loss: 0.4921 - val_accuracy: 0.7596\n",
      "Epoch 64/100\n",
      "100/100 [==============================] - 43s 423ms/step - loss: 0.4220 - accuracy: 0.8050 - val_loss: 0.4914 - val_accuracy: 0.7596\n",
      "Epoch 65/100\n",
      "100/100 [==============================] - 43s 426ms/step - loss: 0.4139 - accuracy: 0.8060 - val_loss: 0.4924 - val_accuracy: 0.7615\n",
      "Epoch 66/100\n",
      "100/100 [==============================] - 43s 429ms/step - loss: 0.4217 - accuracy: 0.8021 - val_loss: 0.4881 - val_accuracy: 0.7624\n",
      "Epoch 67/100\n",
      "100/100 [==============================] - 43s 426ms/step - loss: 0.4250 - accuracy: 0.7998 - val_loss: 0.4851 - val_accuracy: 0.7688\n",
      "Epoch 68/100\n",
      "100/100 [==============================] - 42s 421ms/step - loss: 0.4174 - accuracy: 0.8100 - val_loss: 0.4840 - val_accuracy: 0.7679\n",
      "Epoch 69/100\n",
      "100/100 [==============================] - 43s 426ms/step - loss: 0.4145 - accuracy: 0.8047 - val_loss: 0.4831 - val_accuracy: 0.7706\n",
      "Epoch 70/100\n",
      "100/100 [==============================] - 43s 426ms/step - loss: 0.4087 - accuracy: 0.8090 - val_loss: 0.4844 - val_accuracy: 0.7725\n",
      "Epoch 71/100\n",
      "100/100 [==============================] - 43s 426ms/step - loss: 0.4143 - accuracy: 0.8068 - val_loss: 0.4798 - val_accuracy: 0.7752\n",
      "Epoch 72/100\n",
      "100/100 [==============================] - 43s 422ms/step - loss: 0.4121 - accuracy: 0.8011 - val_loss: 0.4798 - val_accuracy: 0.7734\n",
      "Epoch 73/100\n",
      "100/100 [==============================] - 42s 420ms/step - loss: 0.4079 - accuracy: 0.8105 - val_loss: 0.4793 - val_accuracy: 0.7743\n",
      "Epoch 74/100\n",
      "100/100 [==============================] - 42s 421ms/step - loss: 0.4050 - accuracy: 0.8119 - val_loss: 0.4764 - val_accuracy: 0.7725\n",
      "Epoch 75/100\n",
      "100/100 [==============================] - 42s 420ms/step - loss: 0.4029 - accuracy: 0.8151 - val_loss: 0.4773 - val_accuracy: 0.7743\n",
      "Epoch 76/100\n",
      "100/100 [==============================] - 42s 420ms/step - loss: 0.4086 - accuracy: 0.8032 - val_loss: 0.4758 - val_accuracy: 0.7743\n",
      "Epoch 77/100\n",
      "100/100 [==============================] - 43s 424ms/step - loss: 0.4064 - accuracy: 0.8058 - val_loss: 0.4745 - val_accuracy: 0.7780\n",
      "Epoch 78/100\n",
      "100/100 [==============================] - 43s 425ms/step - loss: 0.4011 - accuracy: 0.8133 - val_loss: 0.4743 - val_accuracy: 0.7807\n",
      "Epoch 79/100\n",
      "100/100 [==============================] - 42s 421ms/step - loss: 0.4000 - accuracy: 0.8130 - val_loss: 0.4730 - val_accuracy: 0.7798\n",
      "Epoch 80/100\n",
      "100/100 [==============================] - 42s 421ms/step - loss: 0.4022 - accuracy: 0.8080 - val_loss: 0.4705 - val_accuracy: 0.7807\n",
      "Epoch 81/100\n",
      "100/100 [==============================] - 42s 420ms/step - loss: 0.3943 - accuracy: 0.8177 - val_loss: 0.4714 - val_accuracy: 0.7798\n",
      "Epoch 82/100\n",
      "100/100 [==============================] - 42s 420ms/step - loss: 0.3976 - accuracy: 0.8147 - val_loss: 0.4685 - val_accuracy: 0.7798\n",
      "Epoch 83/100\n",
      "100/100 [==============================] - 43s 425ms/step - loss: 0.3890 - accuracy: 0.8245 - val_loss: 0.4703 - val_accuracy: 0.7835\n",
      "Epoch 84/100\n",
      "100/100 [==============================] - 43s 425ms/step - loss: 0.4026 - accuracy: 0.8146 - val_loss: 0.4676 - val_accuracy: 0.7826\n",
      "Epoch 85/100\n",
      "100/100 [==============================] - 42s 421ms/step - loss: 0.3812 - accuracy: 0.8252 - val_loss: 0.4683 - val_accuracy: 0.7807\n",
      "Epoch 86/100\n",
      "100/100 [==============================] - 42s 421ms/step - loss: 0.3875 - accuracy: 0.8201 - val_loss: 0.4665 - val_accuracy: 0.7807\n",
      "Epoch 87/100\n",
      "100/100 [==============================] - 43s 431ms/step - loss: 0.3876 - accuracy: 0.8218 - val_loss: 0.4677 - val_accuracy: 0.7798\n",
      "Epoch 88/100\n",
      "100/100 [==============================] - 44s 439ms/step - loss: 0.3943 - accuracy: 0.8194 - val_loss: 0.4644 - val_accuracy: 0.7771\n",
      "Epoch 89/100\n",
      "100/100 [==============================] - 43s 430ms/step - loss: 0.3832 - accuracy: 0.8272 - val_loss: 0.4684 - val_accuracy: 0.7844\n",
      "Epoch 90/100\n",
      "100/100 [==============================] - 43s 429ms/step - loss: 0.3855 - accuracy: 0.8243 - val_loss: 0.4641 - val_accuracy: 0.7862\n",
      "Epoch 91/100\n",
      "100/100 [==============================] - 44s 432ms/step - loss: 0.3872 - accuracy: 0.8269 - val_loss: 0.4626 - val_accuracy: 0.7844\n",
      "Epoch 92/100\n",
      "100/100 [==============================] - 44s 439ms/step - loss: 0.3846 - accuracy: 0.8170 - val_loss: 0.4614 - val_accuracy: 0.7844\n",
      "Epoch 93/100\n",
      "100/100 [==============================] - 44s 439ms/step - loss: 0.3830 - accuracy: 0.8246 - val_loss: 0.4628 - val_accuracy: 0.7872\n",
      "Epoch 94/100\n",
      "100/100 [==============================] - 45s 442ms/step - loss: 0.3877 - accuracy: 0.8212 - val_loss: 0.4600 - val_accuracy: 0.7872\n",
      "Epoch 95/100\n",
      "100/100 [==============================] - 43s 431ms/step - loss: 0.3794 - accuracy: 0.8227 - val_loss: 0.4595 - val_accuracy: 0.7872\n",
      "Epoch 96/100\n",
      "100/100 [==============================] - 44s 437ms/step - loss: 0.3771 - accuracy: 0.8234 - val_loss: 0.4578 - val_accuracy: 0.7872\n",
      "Epoch 97/100\n",
      "100/100 [==============================] - 44s 440ms/step - loss: 0.3832 - accuracy: 0.8242 - val_loss: 0.4560 - val_accuracy: 0.7872\n",
      "Epoch 98/100\n",
      "100/100 [==============================] - 46s 453ms/step - loss: 0.3750 - accuracy: 0.8267 - val_loss: 0.4556 - val_accuracy: 0.7881\n",
      "Epoch 99/100\n",
      "100/100 [==============================] - 44s 441ms/step - loss: 0.3716 - accuracy: 0.8345 - val_loss: 0.4568 - val_accuracy: 0.7908\n",
      "Epoch 100/100\n",
      "100/100 [==============================] - 43s 427ms/step - loss: 0.3752 - accuracy: 0.8268 - val_loss: 0.4559 - val_accuracy: 0.7890\n"
     ]
    }
   ],
   "source": [
    "resnet_history = base_model.fit(train_generator, \n",
    "                                validation_data = validation_generator, \n",
    "                                steps_per_epoch = 100, \n",
    "                                epochs = 100,\n",
    "                                callbacks=[mc, es])"
   ]
  },
  {
   "cell_type": "code",
   "execution_count": null,
   "metadata": {},
   "outputs": [],
   "source": [
    "base_model.save('500epoch.h5')"
   ]
  },
  {
   "cell_type": "code",
   "execution_count": null,
   "metadata": {},
   "outputs": [],
   "source": [
    "pwd"
   ]
  },
  {
   "cell_type": "code",
   "execution_count": null,
   "metadata": {},
   "outputs": [],
   "source": [
    "base_path = '../../../dataset/dist-unbalanced'\n",
    "SHAPE = (224,224,3)\n",
    "batch_size = 256"
   ]
  },
  {
   "cell_type": "code",
   "execution_count": null,
   "metadata": {},
   "outputs": [],
   "source": [
    "img = np.random.choice(os.listdir(os.path.join(base_path , \"test\")))\n",
    "img_path = os.path.join(base_path, \"test\", img)\n",
    "img = cv2.imread(img_path)\n",
    "img = cv2.resize(img, SHAPE[:2])\n",
    "plt.imshow(cv2.cvtColor(img, cv2.COLOR_BGRA2RGB))\n",
    "plt.show()"
   ]
  },
  {
   "cell_type": "code",
   "execution_count": null,
   "metadata": {},
   "outputs": [],
   "source": [
    "img = keras.preprocessing.image.load_img(\n",
    "    img_path, target_size=image_size\n",
    ")\n",
    "img_array = keras.preprocessing.image.img_to_array(img)\n",
    "img_array = tf.expand_dims(img_array, 0)  # Create batch axis\n",
    "\n",
    "predictions = model.predict(img_array)\n",
    "score = float(predictions[0])\n",
    "print(f\"This image is {100 * (1 - score):.2f}% cat and {100 * score:.2f}% dog.\")\n"
   ]
  },
  {
   "cell_type": "code",
   "execution_count": null,
   "metadata": {},
   "outputs": [],
   "source": [
    "import tensorflow as tf\n",
    "from tensorflow.keras.applications.resnet50 import preprocess_input, decode_predictions\n",
    "from tensorflow.keras.preprocessing import image\n",
    "import numpy as np\n",
    "import matplotlib.pyplot as plt\n",
    "print(tf.__version__)"
   ]
  },
  {
   "cell_type": "code",
   "execution_count": 14,
   "metadata": {},
   "outputs": [
    {
     "ename": "NameError",
     "evalue": "name 'image' is not defined",
     "output_type": "error",
     "traceback": [
      "\u001b[0;31m---------------------------------------------------------------------------\u001b[0m",
      "\u001b[0;31mNameError\u001b[0m                                 Traceback (most recent call last)",
      "Cell \u001b[0;32mIn [14], line 1\u001b[0m\n\u001b[0;32m----> 1\u001b[0m img \u001b[38;5;241m=\u001b[39m \u001b[43mimage\u001b[49m\u001b[38;5;241m.\u001b[39mload_img(img_path, target_size\u001b[38;5;241m=\u001b[39m(\u001b[38;5;241m224\u001b[39m, \u001b[38;5;241m224\u001b[39m))\n",
      "\u001b[0;31mNameError\u001b[0m: name 'image' is not defined"
     ]
    }
   ],
   "source": [
    "img = image.load_img(img_path, target_size=(224, 224))"
   ]
  },
  {
   "cell_type": "code",
   "execution_count": null,
   "metadata": {},
   "outputs": [],
   "source": [
    "img_array = image.img_to_array(img)\n",
    "img_batch = np.expand_dims(img_array, axis=0)"
   ]
  },
  {
   "cell_type": "code",
   "execution_count": null,
   "metadata": {},
   "outputs": [],
   "source": [
    "img_batch.shape"
   ]
  },
  {
   "cell_type": "code",
   "execution_count": null,
   "metadata": {},
   "outputs": [],
   "source": [
    "img_preprocessed = preprocess_input(img_batch)"
   ]
  },
  {
   "cell_type": "code",
   "execution_count": null,
   "metadata": {},
   "outputs": [],
   "source": [
    "img_preprocessed.shape"
   ]
  },
  {
   "cell_type": "code",
   "execution_count": null,
   "metadata": {},
   "outputs": [],
   "source": [
    "model = tf.keras.models.load_model('./models/100epoch.h5')"
   ]
  },
  {
   "cell_type": "code",
   "execution_count": null,
   "metadata": {},
   "outputs": [],
   "source": [
    "model.predict(img_batch)"
   ]
  },
  {
   "cell_type": "code",
   "execution_count": null,
   "metadata": {},
   "outputs": [],
   "source": []
  }
 ],
 "metadata": {
  "kernelspec": {
   "display_name": "Python 3",
   "language": "python",
   "name": "python3"
  },
  "language_info": {
   "codemirror_mode": {
    "name": "ipython",
    "version": 3
   },
   "file_extension": ".py",
   "mimetype": "text/x-python",
   "name": "python",
   "nbconvert_exporter": "python",
   "pygments_lexer": "ipython3",
   "version": "3.8.10"
  }
 },
 "nbformat": 4,
 "nbformat_minor": 2
}
